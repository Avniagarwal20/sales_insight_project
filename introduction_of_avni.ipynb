{
  "nbformat": 4,
  "nbformat_minor": 0,
  "metadata": {
    "colab": {
      "name": "introduction of avni.ipynb",
      "provenance": [],
      "authorship_tag": "ABX9TyNs8WvE/3Wfk0dN2AsHvgNZ",
      "include_colab_link": true
    },
    "kernelspec": {
      "name": "python3",
      "display_name": "Python 3"
    },
    "language_info": {
      "name": "python"
    }
  },
  "cells": [
    {
      "cell_type": "markdown",
      "metadata": {
        "id": "view-in-github",
        "colab_type": "text"
      },
      "source": [
        "<a href=\"https://colab.research.google.com/github/Avniagarwal20/sales_insight_project/blob/main/introduction_of_avni.ipynb\" target=\"_parent\"><img src=\"https://colab.research.google.com/assets/colab-badge.svg\" alt=\"Open In Colab\"/></a>"
      ]
    },
    {
      "cell_type": "code",
      "execution_count": 2,
      "metadata": {
        "colab": {
          "base_uri": "https://localhost:8080/"
        },
        "id": "HMtqtVL7t8j8",
        "outputId": "b886484c-d755-479c-973e-9925ae4c0587"
      },
      "outputs": [
        {
          "output_type": "stream",
          "name": "stdout",
          "text": [
            "hi guys i am behan ka loda\n"
          ]
        }
      ],
      "source": [
        "print(\"hi guys i am behan ka loda\")"
      ]
    }
  ]
}